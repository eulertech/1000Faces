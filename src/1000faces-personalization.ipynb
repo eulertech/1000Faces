{
 "cells": [
  {
   "cell_type": "markdown",
   "metadata": {},
   "source": [
    "# Personalization\n",
    "#### This module will handle collaborative filter based recommendation for individual employees, this will produce two outputs: 1. recommended project 2. similar person to check out"
   ]
  },
  {
   "cell_type": "code",
   "execution_count": 1,
   "metadata": {},
   "outputs": [],
   "source": [
    "import pandas as pd\n",
    "import numpy as np\n",
    "import time\n",
    "import turicreate as tc\n",
    "from sklearn.model_selection import train_test_split\n",
    "import sys"
   ]
  },
  {
   "cell_type": "code",
   "execution_count": 60,
   "metadata": {},
   "outputs": [],
   "source": [
    "employee = pd.read_csv('../data/employee_M23.txt',sep = '|',index_col = 'ID')\n",
    "project = pd.read_csv('../data/project_M25_matched.txt',sep = '|', index_col = 'pID')\n",
    "projectCategory = pd.read_csv('../data/Project_category_M23.txt',sep = '|')"
   ]
  },
  {
   "cell_type": "code",
   "execution_count": 62,
   "metadata": {},
   "outputs": [
    {
     "data": {
      "text/html": [
       "<div>\n",
       "<style scoped>\n",
       "    .dataframe tbody tr th:only-of-type {\n",
       "        vertical-align: middle;\n",
       "    }\n",
       "\n",
       "    .dataframe tbody tr th {\n",
       "        vertical-align: top;\n",
       "    }\n",
       "\n",
       "    .dataframe thead th {\n",
       "        text-align: right;\n",
       "    }\n",
       "</style>\n",
       "<table border=\"1\" class=\"dataframe\">\n",
       "  <thead>\n",
       "    <tr style=\"text-align: right;\">\n",
       "      <th></th>\n",
       "      <th>ID</th>\n",
       "      <th>PastProjectsID</th>\n",
       "      <th>PastProjectsCount</th>\n",
       "    </tr>\n",
       "  </thead>\n",
       "  <tbody>\n",
       "    <tr>\n",
       "      <th>0</th>\n",
       "      <td>12056</td>\n",
       "      <td>1</td>\n",
       "      <td>1</td>\n",
       "    </tr>\n",
       "    <tr>\n",
       "      <th>1</th>\n",
       "      <td>12056</td>\n",
       "      <td>100</td>\n",
       "      <td>1</td>\n",
       "    </tr>\n",
       "    <tr>\n",
       "      <th>2</th>\n",
       "      <td>12056</td>\n",
       "      <td>200</td>\n",
       "      <td>1</td>\n",
       "    </tr>\n",
       "    <tr>\n",
       "      <th>3</th>\n",
       "      <td>12056</td>\n",
       "      <td>300</td>\n",
       "      <td>1</td>\n",
       "    </tr>\n",
       "    <tr>\n",
       "      <th>4</th>\n",
       "      <td>12057</td>\n",
       "      <td>101</td>\n",
       "      <td>1</td>\n",
       "    </tr>\n",
       "  </tbody>\n",
       "</table>\n",
       "</div>"
      ],
      "text/plain": [
       "      ID PastProjectsID  PastProjectsCount\n",
       "0  12056              1                  1\n",
       "1  12056            100                  1\n",
       "2  12056            200                  1\n",
       "3  12056            300                  1\n",
       "4  12057            101                  1"
      ]
     },
     "execution_count": 62,
     "metadata": {},
     "output_type": "execute_result"
    }
   ],
   "source": [
    "# massage empolyee project data\n",
    "employee['ID'] = employee.index\n",
    "projectData = pd.melt(employee[['ID','PastProjectsID']].set_index('ID')['PastProjectsID'].str.split(\";\", n = -1, expand = True).reset_index(),\n",
    "              id_vars = ['ID'],\n",
    "              value_name = 'PastProjectsID')\\\n",
    "        .dropna().drop(['variable'], axis = 1)\\\n",
    "        .groupby(['ID','PastProjectsID']).agg({'PastProjectsID':\"count\"})\\\n",
    "        .rename(columns={'PastProjectsID':'PastProjectsCount'}).reset_index()\n",
    "projectData['PastProjectsCount'] = projectData['PastProjectsCount'].astype(np.int64)\n",
    "projectData.head()"
   ]
  },
  {
   "cell_type": "code",
   "execution_count": 63,
   "metadata": {},
   "outputs": [],
   "source": [
    "def split_data(data):\n",
    "    train, test = train_test_split(data, test_size = 0.2)\n",
    "    train_data = tc.SFrame(train)\n",
    "    test_data = tc.SFrame(test)\n",
    "    return train_data, test_data"
   ]
  },
  {
   "cell_type": "code",
   "execution_count": 64,
   "metadata": {},
   "outputs": [],
   "source": [
    "train_data, test_data = split_data(projectData)"
   ]
  },
  {
   "cell_type": "markdown",
   "metadata": {},
   "source": [
    "# Define model using Turicreate library\n",
    "## Baseline: most popular items"
   ]
  },
  {
   "cell_type": "code",
   "execution_count": 75,
   "metadata": {},
   "outputs": [],
   "source": [
    "user_id = 'ID'\n",
    "item_id = 'PastProjectsID'\n",
    "project_to_recommend = list(projectData['ID'])\n",
    "n_rec = 10\n",
    "n_display = 30"
   ]
  },
  {
   "cell_type": "code",
   "execution_count": 76,
   "metadata": {},
   "outputs": [],
   "source": [
    "# Turicreate is a great library\n",
    "def model(train_data, name, user_id, item_id, target,\n",
    "         project_to_recommend, n_rec, n_display):\n",
    "    if name == 'popularity':\n",
    "        model = tc.popularity_recommender.create(train_data,\n",
    "                                                user_id = user_id,\n",
    "                                                item_id = item_id,\n",
    "                                                target = target)\n",
    "    elif name == 'cosine':\n",
    "        model = tc.item_similarity_recommender.create(train_data,\n",
    "                                                     user_id = user_id,\n",
    "                                                     item_id = item_id,\n",
    "                                                     target = target,\n",
    "                                                     similarity_type = 'cosine')\n",
    "    elif name == 'pearson':\n",
    "        model = tc.item_similarity_recommender.create(train_data,\n",
    "                                                     user_id = user_id,\n",
    "                                                     item_id = item_id,\n",
    "                                                     target = target,\n",
    "                                                     similarity_type = 'pearson')\n",
    "#     recom = model.recommend(users = users_to_recommend, k = n_rec)\n",
    "    return model"
   ]
  },
  {
   "cell_type": "markdown",
   "metadata": {},
   "source": [
    "# Popularity model as baseline"
   ]
  },
  {
   "cell_type": "code",
   "execution_count": 77,
   "metadata": {},
   "outputs": [
    {
     "data": {
      "text/html": [
       "<pre>Preparing data set.</pre>"
      ],
      "text/plain": [
       "Preparing data set."
      ]
     },
     "metadata": {},
     "output_type": "display_data"
    },
    {
     "data": {
      "text/html": [
       "<pre>    Data has 636 observations with 199 users and 458 items.</pre>"
      ],
      "text/plain": [
       "    Data has 636 observations with 199 users and 458 items."
      ]
     },
     "metadata": {},
     "output_type": "display_data"
    },
    {
     "data": {
      "text/html": [
       "<pre>    Data prepared in: 0.035712s</pre>"
      ],
      "text/plain": [
       "    Data prepared in: 0.035712s"
      ]
     },
     "metadata": {},
     "output_type": "display_data"
    },
    {
     "data": {
      "text/html": [
       "<pre>636 observations to process; with 458 unique items.</pre>"
      ],
      "text/plain": [
       "636 observations to process; with 458 unique items."
      ]
     },
     "metadata": {},
     "output_type": "display_data"
    }
   ],
   "source": [
    "name = 'popularity'\n",
    "target = 'PastProjectsCount'\n",
    "popularity_model = model(train_data, name, user_id, item_id, target,\n",
    "                  project_to_recommend, n_rec, n_display)"
   ]
  },
  {
   "cell_type": "code",
   "execution_count": 78,
   "metadata": {},
   "outputs": [
    {
     "name": "stdout",
     "output_type": "stream",
     "text": [
      "+-------+----------------+-------+------+\n",
      "|   ID  | PastProjectsID | score | rank |\n",
      "+-------+----------------+-------+------+\n",
      "| 12056 |      178       |  1.0  |  1   |\n",
      "| 12056 |       5        |  1.0  |  2   |\n",
      "| 12056 |      391       |  1.0  |  3   |\n",
      "| 12056 |      196       |  1.0  |  4   |\n",
      "| 12056 |      314       |  1.0  |  5   |\n",
      "| 12056 |      103       |  1.0  |  6   |\n",
      "| 12056 |      382       |  1.0  |  7   |\n",
      "| 12056 |      483       |  1.0  |  8   |\n",
      "| 12056 |      469       |  1.0  |  9   |\n",
      "| 12056 |      222       |  1.0  |  10  |\n",
      "| 12056 |      178       |  1.0  |  1   |\n",
      "| 12056 |       5        |  1.0  |  2   |\n",
      "| 12056 |      391       |  1.0  |  3   |\n",
      "| 12056 |      196       |  1.0  |  4   |\n",
      "| 12056 |      314       |  1.0  |  5   |\n",
      "| 12056 |      103       |  1.0  |  6   |\n",
      "| 12056 |      382       |  1.0  |  7   |\n",
      "| 12056 |      483       |  1.0  |  8   |\n",
      "| 12056 |      469       |  1.0  |  9   |\n",
      "| 12056 |      222       |  1.0  |  10  |\n",
      "| 12056 |      178       |  1.0  |  1   |\n",
      "| 12056 |       5        |  1.0  |  2   |\n",
      "| 12056 |      391       |  1.0  |  3   |\n",
      "| 12056 |      196       |  1.0  |  4   |\n",
      "| 12056 |      314       |  1.0  |  5   |\n",
      "| 12056 |      103       |  1.0  |  6   |\n",
      "| 12056 |      382       |  1.0  |  7   |\n",
      "| 12056 |      483       |  1.0  |  8   |\n",
      "| 12056 |      469       |  1.0  |  9   |\n",
      "| 12056 |      222       |  1.0  |  10  |\n",
      "+-------+----------------+-------+------+\n",
      "[7960 rows x 4 columns]\n",
      "\n"
     ]
    }
   ],
   "source": [
    "popularity_model.recommend(project_to_recommend, k = n_rec).print_rows(30)"
   ]
  },
  {
   "cell_type": "markdown",
   "metadata": {},
   "source": [
    "# use collaborative filter\n"
   ]
  },
  {
   "cell_type": "code",
   "execution_count": 79,
   "metadata": {},
   "outputs": [
    {
     "data": {
      "text/html": [
       "<pre>Preparing data set.</pre>"
      ],
      "text/plain": [
       "Preparing data set."
      ]
     },
     "metadata": {},
     "output_type": "display_data"
    },
    {
     "data": {
      "text/html": [
       "<pre>    Data has 636 observations with 199 users and 458 items.</pre>"
      ],
      "text/plain": [
       "    Data has 636 observations with 199 users and 458 items."
      ]
     },
     "metadata": {},
     "output_type": "display_data"
    },
    {
     "data": {
      "text/html": [
       "<pre>    Data prepared in: 0.008734s</pre>"
      ],
      "text/plain": [
       "    Data prepared in: 0.008734s"
      ]
     },
     "metadata": {},
     "output_type": "display_data"
    },
    {
     "data": {
      "text/html": [
       "<pre>Training model from provided data.</pre>"
      ],
      "text/plain": [
       "Training model from provided data."
      ]
     },
     "metadata": {},
     "output_type": "display_data"
    },
    {
     "data": {
      "text/html": [
       "<pre>Gathering per-item and per-user statistics.</pre>"
      ],
      "text/plain": [
       "Gathering per-item and per-user statistics."
      ]
     },
     "metadata": {},
     "output_type": "display_data"
    },
    {
     "data": {
      "text/html": [
       "<pre>+--------------------------------+------------+</pre>"
      ],
      "text/plain": [
       "+--------------------------------+------------+"
      ]
     },
     "metadata": {},
     "output_type": "display_data"
    },
    {
     "data": {
      "text/html": [
       "<pre>| Elapsed Time (Item Statistics) | % Complete |</pre>"
      ],
      "text/plain": [
       "| Elapsed Time (Item Statistics) | % Complete |"
      ]
     },
     "metadata": {},
     "output_type": "display_data"
    },
    {
     "data": {
      "text/html": [
       "<pre>+--------------------------------+------------+</pre>"
      ],
      "text/plain": [
       "+--------------------------------+------------+"
      ]
     },
     "metadata": {},
     "output_type": "display_data"
    },
    {
     "data": {
      "text/html": [
       "<pre>| 5.668ms                        | 100        |</pre>"
      ],
      "text/plain": [
       "| 5.668ms                        | 100        |"
      ]
     },
     "metadata": {},
     "output_type": "display_data"
    },
    {
     "data": {
      "text/html": [
       "<pre>+--------------------------------+------------+</pre>"
      ],
      "text/plain": [
       "+--------------------------------+------------+"
      ]
     },
     "metadata": {},
     "output_type": "display_data"
    },
    {
     "data": {
      "text/html": [
       "<pre>Setting up lookup tables.</pre>"
      ],
      "text/plain": [
       "Setting up lookup tables."
      ]
     },
     "metadata": {},
     "output_type": "display_data"
    },
    {
     "data": {
      "text/html": [
       "<pre>Processing data in one pass using dense lookup tables.</pre>"
      ],
      "text/plain": [
       "Processing data in one pass using dense lookup tables."
      ]
     },
     "metadata": {},
     "output_type": "display_data"
    },
    {
     "data": {
      "text/html": [
       "<pre>+-------------------------------------+------------------+-----------------+</pre>"
      ],
      "text/plain": [
       "+-------------------------------------+------------------+-----------------+"
      ]
     },
     "metadata": {},
     "output_type": "display_data"
    },
    {
     "data": {
      "text/html": [
       "<pre>| Elapsed Time (Constructing Lookups) | Total % Complete | Items Processed |</pre>"
      ],
      "text/plain": [
       "| Elapsed Time (Constructing Lookups) | Total % Complete | Items Processed |"
      ]
     },
     "metadata": {},
     "output_type": "display_data"
    },
    {
     "data": {
      "text/html": [
       "<pre>+-------------------------------------+------------------+-----------------+</pre>"
      ],
      "text/plain": [
       "+-------------------------------------+------------------+-----------------+"
      ]
     },
     "metadata": {},
     "output_type": "display_data"
    },
    {
     "data": {
      "text/html": [
       "<pre>| 7.168ms                             | 0.25             | 1               |</pre>"
      ],
      "text/plain": [
       "| 7.168ms                             | 0.25             | 1               |"
      ]
     },
     "metadata": {},
     "output_type": "display_data"
    },
    {
     "data": {
      "text/html": [
       "<pre>| 13.202ms                            | 100              | 458             |</pre>"
      ],
      "text/plain": [
       "| 13.202ms                            | 100              | 458             |"
      ]
     },
     "metadata": {},
     "output_type": "display_data"
    },
    {
     "data": {
      "text/html": [
       "<pre>+-------------------------------------+------------------+-----------------+</pre>"
      ],
      "text/plain": [
       "+-------------------------------------+------------------+-----------------+"
      ]
     },
     "metadata": {},
     "output_type": "display_data"
    },
    {
     "data": {
      "text/html": [
       "<pre>Finalizing lookup tables.</pre>"
      ],
      "text/plain": [
       "Finalizing lookup tables."
      ]
     },
     "metadata": {},
     "output_type": "display_data"
    },
    {
     "data": {
      "text/html": [
       "<pre>Generating candidate set for working with new users.</pre>"
      ],
      "text/plain": [
       "Generating candidate set for working with new users."
      ]
     },
     "metadata": {},
     "output_type": "display_data"
    },
    {
     "data": {
      "text/html": [
       "<pre>Finished training in 0.015218s</pre>"
      ],
      "text/plain": [
       "Finished training in 0.015218s"
      ]
     },
     "metadata": {},
     "output_type": "display_data"
    }
   ],
   "source": [
    "name = 'pearson'\n",
    "target = 'PastProjectsCount'\n",
    "pear = model(train_data, name, user_id, item_id, target,\n",
    "           project_to_recommend, n_rec, n_display)"
   ]
  },
  {
   "cell_type": "code",
   "execution_count": 80,
   "metadata": {},
   "outputs": [
    {
     "name": "stdout",
     "output_type": "stream",
     "text": [
      "+-------+----------------+-------+------+\n",
      "|   ID  | PastProjectsID | score | rank |\n",
      "+-------+----------------+-------+------+\n",
      "| 12056 |      178       |  0.0  |  1   |\n",
      "| 12056 |       5        |  0.0  |  2   |\n",
      "| 12056 |      391       |  0.0  |  3   |\n",
      "| 12056 |      196       |  0.0  |  4   |\n",
      "| 12056 |      314       |  0.0  |  5   |\n",
      "| 12056 |      103       |  0.0  |  6   |\n",
      "| 12056 |      382       |  0.0  |  7   |\n",
      "| 12056 |      483       |  0.0  |  8   |\n",
      "| 12056 |      469       |  0.0  |  9   |\n",
      "| 12056 |      222       |  0.0  |  10  |\n",
      "| 12056 |      178       |  0.0  |  1   |\n",
      "| 12056 |       5        |  0.0  |  2   |\n",
      "| 12056 |      391       |  0.0  |  3   |\n",
      "| 12056 |      196       |  0.0  |  4   |\n",
      "| 12056 |      314       |  0.0  |  5   |\n",
      "| 12056 |      103       |  0.0  |  6   |\n",
      "| 12056 |      382       |  0.0  |  7   |\n",
      "| 12056 |      483       |  0.0  |  8   |\n",
      "| 12056 |      469       |  0.0  |  9   |\n",
      "| 12056 |      222       |  0.0  |  10  |\n",
      "| 12056 |      178       |  0.0  |  1   |\n",
      "| 12056 |       5        |  0.0  |  2   |\n",
      "| 12056 |      391       |  0.0  |  3   |\n",
      "| 12056 |      196       |  0.0  |  4   |\n",
      "| 12056 |      314       |  0.0  |  5   |\n",
      "| 12056 |      103       |  0.0  |  6   |\n",
      "| 12056 |      382       |  0.0  |  7   |\n",
      "| 12056 |      483       |  0.0  |  8   |\n",
      "| 12056 |      469       |  0.0  |  9   |\n",
      "| 12056 |      222       |  0.0  |  10  |\n",
      "+-------+----------------+-------+------+\n",
      "[7960 rows x 4 columns]\n",
      "\n"
     ]
    }
   ],
   "source": [
    "pear.recommend(project_to_recommend, k = n_rec).print_rows(n_display)"
   ]
  },
  {
   "cell_type": "code",
   "execution_count": 71,
   "metadata": {},
   "outputs": [
    {
     "name": "stdout",
     "output_type": "stream",
     "text": [
      "PROGRESS: Evaluate model Popularity Model on Purchase Counts\n",
      "\n",
      "Precision and recall summary statistics by cutoff\n",
      "+--------+-----------------------+----------------------+\n",
      "| cutoff |     mean_precision    |     mean_recall      |\n",
      "+--------+-----------------------+----------------------+\n",
      "|   1    |  0.008474576271186442 | 0.008474576271186442 |\n",
      "|   2    |  0.004237288135593221 | 0.008474576271186442 |\n",
      "|   3    |  0.002824858757062149 | 0.008474576271186442 |\n",
      "|   4    | 0.0021186440677966106 | 0.008474576271186442 |\n",
      "|   5    |  0.003389830508474576 | 0.016949152542372885 |\n",
      "|   6    |  0.004237288135593221 | 0.025423728813559324 |\n",
      "|   7    | 0.0036319612590799038 | 0.025423728813559324 |\n",
      "|   8    | 0.0031779661016949155 | 0.025423728813559324 |\n",
      "|   9    |  0.002824858757062148 | 0.025423728813559324 |\n",
      "|   10   |  0.003389830508474575 | 0.029661016949152536 |\n",
      "+--------+-----------------------+----------------------+\n",
      "[10 rows x 3 columns]\n",
      "\n",
      "\n",
      "Overall RMSE: 0.0\n",
      "\n",
      "Per User RMSE (best)\n",
      "+-------+------+-------+\n",
      "|   ID  | rmse | count |\n",
      "+-------+------+-------+\n",
      "| 12237 | 0.0  |   1   |\n",
      "+-------+------+-------+\n",
      "[1 rows x 3 columns]\n",
      "\n",
      "\n",
      "Per User RMSE (worst)\n",
      "+-------+------+-------+\n",
      "|   ID  | rmse | count |\n",
      "+-------+------+-------+\n",
      "| 12199 | 0.0  |   1   |\n",
      "+-------+------+-------+\n",
      "[1 rows x 3 columns]\n",
      "\n",
      "\n",
      "Per Item RMSE (best)\n",
      "+----------------+------+-------+\n",
      "| PastProjectsID | rmse | count |\n",
      "+----------------+------+-------+\n",
      "|      122       | 0.0  |   1   |\n",
      "+----------------+------+-------+\n",
      "[1 rows x 3 columns]\n",
      "\n",
      "\n",
      "Per Item RMSE (worst)\n",
      "+----------------+------+-------+\n",
      "| PastProjectsID | rmse | count |\n",
      "+----------------+------+-------+\n",
      "|      288       | 0.0  |   1   |\n",
      "+----------------+------+-------+\n",
      "[1 rows x 3 columns]\n",
      "\n",
      "PROGRESS: Evaluate model Pearson Similarity on Purchase Counts\n",
      "\n",
      "Precision and recall summary statistics by cutoff\n",
      "+--------+-----------------------+----------------------+\n",
      "| cutoff |     mean_precision    |     mean_recall      |\n",
      "+--------+-----------------------+----------------------+\n",
      "|   1    |  0.008474576271186442 | 0.008474576271186442 |\n",
      "|   2    |  0.004237288135593221 | 0.008474576271186442 |\n",
      "|   3    |  0.002824858757062149 | 0.008474576271186442 |\n",
      "|   4    | 0.0021186440677966106 | 0.008474576271186442 |\n",
      "|   5    |  0.003389830508474576 | 0.01694915254237288  |\n",
      "|   6    |  0.00423728813559322  | 0.025423728813559324 |\n",
      "|   7    |  0.003631961259079903 | 0.025423728813559324 |\n",
      "|   8    | 0.0031779661016949155 | 0.025423728813559324 |\n",
      "|   9    |  0.002824858757062147 | 0.025423728813559324 |\n",
      "|   10   |  0.003389830508474576 | 0.029661016949152536 |\n",
      "+--------+-----------------------+----------------------+\n",
      "[10 rows x 3 columns]\n",
      "\n",
      "\n",
      "Overall RMSE: 1.0\n",
      "\n",
      "Per User RMSE (best)\n",
      "+-------+------+-------+\n",
      "|   ID  | rmse | count |\n",
      "+-------+------+-------+\n",
      "| 12237 | 1.0  |   1   |\n",
      "+-------+------+-------+\n",
      "[1 rows x 3 columns]\n",
      "\n",
      "\n",
      "Per User RMSE (worst)\n",
      "+-------+------+-------+\n",
      "|   ID  | rmse | count |\n",
      "+-------+------+-------+\n",
      "| 12199 | 1.0  |   1   |\n",
      "+-------+------+-------+\n",
      "[1 rows x 3 columns]\n",
      "\n",
      "\n",
      "Per Item RMSE (best)\n",
      "+----------------+------+-------+\n",
      "| PastProjectsID | rmse | count |\n",
      "+----------------+------+-------+\n",
      "|      122       | 1.0  |   1   |\n",
      "+----------------+------+-------+\n",
      "[1 rows x 3 columns]\n",
      "\n",
      "\n",
      "Per Item RMSE (worst)\n",
      "+----------------+------+-------+\n",
      "| PastProjectsID | rmse | count |\n",
      "+----------------+------+-------+\n",
      "|      288       | 1.0  |   1   |\n",
      "+----------------+------+-------+\n",
      "[1 rows x 3 columns]\n",
      "\n"
     ]
    }
   ],
   "source": [
    "models_w_dummy = [popularity_model, pear]\n",
    "\n",
    "names_w_dummy = ['Popularity Model on Purchase Counts', 'Pearson Similarity on Purchase Counts']\n",
    "eval_counts = tc.recommender.util.compare_models(test_data,\n",
    "                                                models_w_dummy, model_names=names_w_dummy)"
   ]
  },
  {
   "cell_type": "markdown",
   "metadata": {},
   "source": [
    "# final model"
   ]
  },
  {
   "cell_type": "code",
   "execution_count": 81,
   "metadata": {},
   "outputs": [
    {
     "data": {
      "text/html": [
       "<pre>Preparing data set.</pre>"
      ],
      "text/plain": [
       "Preparing data set."
      ]
     },
     "metadata": {},
     "output_type": "display_data"
    },
    {
     "data": {
      "text/html": [
       "<pre>    Data has 796 observations with 199 users and 498 items.</pre>"
      ],
      "text/plain": [
       "    Data has 796 observations with 199 users and 498 items."
      ]
     },
     "metadata": {},
     "output_type": "display_data"
    },
    {
     "data": {
      "text/html": [
       "<pre>    Data prepared in: 0.006522s</pre>"
      ],
      "text/plain": [
       "    Data prepared in: 0.006522s"
      ]
     },
     "metadata": {},
     "output_type": "display_data"
    },
    {
     "data": {
      "text/html": [
       "<pre>Training model from provided data.</pre>"
      ],
      "text/plain": [
       "Training model from provided data."
      ]
     },
     "metadata": {},
     "output_type": "display_data"
    },
    {
     "data": {
      "text/html": [
       "<pre>Gathering per-item and per-user statistics.</pre>"
      ],
      "text/plain": [
       "Gathering per-item and per-user statistics."
      ]
     },
     "metadata": {},
     "output_type": "display_data"
    },
    {
     "data": {
      "text/html": [
       "<pre>+--------------------------------+------------+</pre>"
      ],
      "text/plain": [
       "+--------------------------------+------------+"
      ]
     },
     "metadata": {},
     "output_type": "display_data"
    },
    {
     "data": {
      "text/html": [
       "<pre>| Elapsed Time (Item Statistics) | % Complete |</pre>"
      ],
      "text/plain": [
       "| Elapsed Time (Item Statistics) | % Complete |"
      ]
     },
     "metadata": {},
     "output_type": "display_data"
    },
    {
     "data": {
      "text/html": [
       "<pre>+--------------------------------+------------+</pre>"
      ],
      "text/plain": [
       "+--------------------------------+------------+"
      ]
     },
     "metadata": {},
     "output_type": "display_data"
    },
    {
     "data": {
      "text/html": [
       "<pre>| 15.813ms                       | 100        |</pre>"
      ],
      "text/plain": [
       "| 15.813ms                       | 100        |"
      ]
     },
     "metadata": {},
     "output_type": "display_data"
    },
    {
     "data": {
      "text/html": [
       "<pre>+--------------------------------+------------+</pre>"
      ],
      "text/plain": [
       "+--------------------------------+------------+"
      ]
     },
     "metadata": {},
     "output_type": "display_data"
    },
    {
     "data": {
      "text/html": [
       "<pre>Setting up lookup tables.</pre>"
      ],
      "text/plain": [
       "Setting up lookup tables."
      ]
     },
     "metadata": {},
     "output_type": "display_data"
    },
    {
     "data": {
      "text/html": [
       "<pre>Processing data in one pass using dense lookup tables.</pre>"
      ],
      "text/plain": [
       "Processing data in one pass using dense lookup tables."
      ]
     },
     "metadata": {},
     "output_type": "display_data"
    },
    {
     "data": {
      "text/html": [
       "<pre>+-------------------------------------+------------------+-----------------+</pre>"
      ],
      "text/plain": [
       "+-------------------------------------+------------------+-----------------+"
      ]
     },
     "metadata": {},
     "output_type": "display_data"
    },
    {
     "data": {
      "text/html": [
       "<pre>| Elapsed Time (Constructing Lookups) | Total % Complete | Items Processed |</pre>"
      ],
      "text/plain": [
       "| Elapsed Time (Constructing Lookups) | Total % Complete | Items Processed |"
      ]
     },
     "metadata": {},
     "output_type": "display_data"
    },
    {
     "data": {
      "text/html": [
       "<pre>+-------------------------------------+------------------+-----------------+</pre>"
      ],
      "text/plain": [
       "+-------------------------------------+------------------+-----------------+"
      ]
     },
     "metadata": {},
     "output_type": "display_data"
    },
    {
     "name": "stdout",
     "output_type": "stream",
     "text": [
      "+-------+----------------+--------------------+------+\n",
      "|   ID  | PastProjectsID |       score        | rank |\n",
      "+-------+----------------+--------------------+------+\n",
      "| 12056 |      400       | 0.3535533845424652 |  1   |\n",
      "| 12056 |      101       |        0.25        |  2   |\n",
      "| 12056 |      103       |        0.0         |  3   |\n",
      "| 12056 |      302       |        0.0         |  4   |\n",
      "| 12056 |       3        |        0.0         |  5   |\n",
      "| 12056 |      203       |        0.0         |  6   |\n",
      "| 12056 |      102       |        0.0         |  7   |\n",
      "| 12056 |      301       |        0.0         |  8   |\n",
      "| 12056 |      201       |        0.0         |  9   |\n",
      "| 12056 |       2        |        0.0         |  10  |\n",
      "| 12056 |      400       | 0.3535533845424652 |  1   |\n",
      "| 12056 |      101       |        0.25        |  2   |\n",
      "| 12056 |      103       |        0.0         |  3   |\n",
      "| 12056 |      302       |        0.0         |  4   |\n",
      "| 12056 |       3        |        0.0         |  5   |\n",
      "| 12056 |      203       |        0.0         |  6   |\n",
      "| 12056 |      102       |        0.0         |  7   |\n",
      "| 12056 |      301       |        0.0         |  8   |\n",
      "| 12056 |      201       |        0.0         |  9   |\n",
      "| 12056 |       2        |        0.0         |  10  |\n",
      "| 12056 |      400       | 0.3535533845424652 |  1   |\n",
      "| 12056 |      101       |        0.25        |  2   |\n",
      "| 12056 |      103       |        0.0         |  3   |\n",
      "| 12056 |      302       |        0.0         |  4   |\n",
      "| 12056 |       3        |        0.0         |  5   |\n",
      "| 12056 |      203       |        0.0         |  6   |\n",
      "| 12056 |      102       |        0.0         |  7   |\n",
      "| 12056 |      301       |        0.0         |  8   |\n",
      "| 12056 |      201       |        0.0         |  9   |\n",
      "| 12056 |       2        |        0.0         |  10  |\n",
      "+-------+----------------+--------------------+------+\n",
      "[7960 rows x 4 columns]\n",
      "\n"
     ]
    },
    {
     "data": {
      "text/html": [
       "<pre>| 16.978ms                            | 0.5              | 2               |</pre>"
      ],
      "text/plain": [
       "| 16.978ms                            | 0.5              | 2               |"
      ]
     },
     "metadata": {},
     "output_type": "display_data"
    },
    {
     "data": {
      "text/html": [
       "<pre>| 21.468ms                            | 100              | 498             |</pre>"
      ],
      "text/plain": [
       "| 21.468ms                            | 100              | 498             |"
      ]
     },
     "metadata": {},
     "output_type": "display_data"
    },
    {
     "data": {
      "text/html": [
       "<div>\n",
       "<style scoped>\n",
       "    .dataframe tbody tr th:only-of-type {\n",
       "        vertical-align: middle;\n",
       "    }\n",
       "\n",
       "    .dataframe tbody tr th {\n",
       "        vertical-align: top;\n",
       "    }\n",
       "\n",
       "    .dataframe thead th {\n",
       "        text-align: right;\n",
       "    }\n",
       "</style>\n",
       "<table border=\"1\" class=\"dataframe\">\n",
       "  <thead>\n",
       "    <tr style=\"text-align: right;\">\n",
       "      <th></th>\n",
       "      <th>ID</th>\n",
       "      <th>PastProjectsID</th>\n",
       "      <th>score</th>\n",
       "      <th>rank</th>\n",
       "    </tr>\n",
       "  </thead>\n",
       "  <tbody>\n",
       "    <tr>\n",
       "      <th>0</th>\n",
       "      <td>12056</td>\n",
       "      <td>400</td>\n",
       "      <td>0.353553</td>\n",
       "      <td>1</td>\n",
       "    </tr>\n",
       "    <tr>\n",
       "      <th>1</th>\n",
       "      <td>12056</td>\n",
       "      <td>101</td>\n",
       "      <td>0.250000</td>\n",
       "      <td>2</td>\n",
       "    </tr>\n",
       "    <tr>\n",
       "      <th>2</th>\n",
       "      <td>12056</td>\n",
       "      <td>103</td>\n",
       "      <td>0.000000</td>\n",
       "      <td>3</td>\n",
       "    </tr>\n",
       "    <tr>\n",
       "      <th>3</th>\n",
       "      <td>12056</td>\n",
       "      <td>302</td>\n",
       "      <td>0.000000</td>\n",
       "      <td>4</td>\n",
       "    </tr>\n",
       "    <tr>\n",
       "      <th>4</th>\n",
       "      <td>12056</td>\n",
       "      <td>3</td>\n",
       "      <td>0.000000</td>\n",
       "      <td>5</td>\n",
       "    </tr>\n",
       "  </tbody>\n",
       "</table>\n",
       "</div>"
      ],
      "text/plain": [
       "      ID PastProjectsID     score  rank\n",
       "0  12056            400  0.353553     1\n",
       "1  12056            101  0.250000     2\n",
       "2  12056            103  0.000000     3\n",
       "3  12056            302  0.000000     4\n",
       "4  12056              3  0.000000     5"
      ]
     },
     "execution_count": 81,
     "metadata": {},
     "output_type": "execute_result"
    },
    {
     "data": {
      "text/html": [
       "<pre>+-------------------------------------+------------------+-----------------+</pre>"
      ],
      "text/plain": [
       "+-------------------------------------+------------------+-----------------+"
      ]
     },
     "metadata": {},
     "output_type": "display_data"
    },
    {
     "data": {
      "text/html": [
       "<pre>Finalizing lookup tables.</pre>"
      ],
      "text/plain": [
       "Finalizing lookup tables."
      ]
     },
     "metadata": {},
     "output_type": "display_data"
    },
    {
     "data": {
      "text/html": [
       "<pre>Generating candidate set for working with new users.</pre>"
      ],
      "text/plain": [
       "Generating candidate set for working with new users."
      ]
     },
     "metadata": {},
     "output_type": "display_data"
    },
    {
     "data": {
      "text/html": [
       "<pre>Finished training in 0.023805s</pre>"
      ],
      "text/plain": [
       "Finished training in 0.023805s"
      ]
     },
     "metadata": {},
     "output_type": "display_data"
    }
   ],
   "source": [
    "final_model = tc.item_similarity_recommender.create(tc.SFrame(projectData), \n",
    "                                            user_id=user_id, \n",
    "                                            item_id=item_id, \n",
    "                                            target='PastProjectsCount', similarity_type='cosine')\n",
    "recom = final_model.recommend(users=project_to_recommend, k=n_rec)\n",
    "recom.print_rows(n_display)\n",
    "recom.to_dataframe().head()"
   ]
  },
  {
   "cell_type": "code",
   "execution_count": 82,
   "metadata": {},
   "outputs": [],
   "source": [
    "def create_output(model, project_to_recommend, n_rec, print_csv=True):\n",
    "    recomendation = model.recommend(users=users_to_recommend, k=n_rec)\n",
    "    df_rec = recomendation.to_dataframe()\n",
    "    df_rec['recommendedProjects'] = df_rec.groupby([user_id])[item_id] \\\n",
    "        .transform(lambda x: '|'.join(x.astype(str)))\n",
    "    df_output = df_rec[['ID', 'recommendedProjects']].drop_duplicates() \\\n",
    "        .sort_values('ID').set_index('ID')\n",
    "    if print_csv:\n",
    "        df_output.to_csv('../output/option1_recommendation.csv')\n",
    "        print(\"An output file can be found in 'output' folder with name 'option1_recommendation.csv'\")\n",
    "    return df_output"
   ]
  },
  {
   "cell_type": "code",
   "execution_count": 83,
   "metadata": {},
   "outputs": [
    {
     "name": "stdout",
     "output_type": "stream",
     "text": [
      "An output file can be found in 'output' folder with name 'option1_recommendation.csv'\n",
      "(199, 1)\n"
     ]
    },
    {
     "data": {
      "text/html": [
       "<div>\n",
       "<style scoped>\n",
       "    .dataframe tbody tr th:only-of-type {\n",
       "        vertical-align: middle;\n",
       "    }\n",
       "\n",
       "    .dataframe tbody tr th {\n",
       "        vertical-align: top;\n",
       "    }\n",
       "\n",
       "    .dataframe thead th {\n",
       "        text-align: right;\n",
       "    }\n",
       "</style>\n",
       "<table border=\"1\" class=\"dataframe\">\n",
       "  <thead>\n",
       "    <tr style=\"text-align: right;\">\n",
       "      <th></th>\n",
       "      <th>recommendedProjects</th>\n",
       "    </tr>\n",
       "    <tr>\n",
       "      <th>ID</th>\n",
       "      <th></th>\n",
       "    </tr>\n",
       "  </thead>\n",
       "  <tbody>\n",
       "    <tr>\n",
       "      <th>12056</th>\n",
       "      <td>178|5|391|196|314|103|382|483|469|222|178|5|39...</td>\n",
       "    </tr>\n",
       "    <tr>\n",
       "      <th>12057</th>\n",
       "      <td>178|5|391|196|314|103|382|483|469|222|178|5|39...</td>\n",
       "    </tr>\n",
       "    <tr>\n",
       "      <th>12058</th>\n",
       "      <td>178|5|391|196|314|103|382|483|469|222|178|5|39...</td>\n",
       "    </tr>\n",
       "    <tr>\n",
       "      <th>12059</th>\n",
       "      <td>178|5|391|196|314|103|382|483|469|222|178|5|39...</td>\n",
       "    </tr>\n",
       "    <tr>\n",
       "      <th>12060</th>\n",
       "      <td>465|178|391|196|314|103|382|483|469|222|465|17...</td>\n",
       "    </tr>\n",
       "  </tbody>\n",
       "</table>\n",
       "</div>"
      ],
      "text/plain": [
       "                                     recommendedProjects\n",
       "ID                                                      \n",
       "12056  178|5|391|196|314|103|382|483|469|222|178|5|39...\n",
       "12057  178|5|391|196|314|103|382|483|469|222|178|5|39...\n",
       "12058  178|5|391|196|314|103|382|483|469|222|178|5|39...\n",
       "12059  178|5|391|196|314|103|382|483|469|222|178|5|39...\n",
       "12060  465|178|391|196|314|103|382|483|469|222|465|17..."
      ]
     },
     "execution_count": 83,
     "metadata": {},
     "output_type": "execute_result"
    }
   ],
   "source": [
    "df_output = create_output(pear, project_to_recommend, n_rec, print_csv=True)\n",
    "print(df_output.shape)\n",
    "df_output.head()"
   ]
  },
  {
   "cell_type": "code",
   "execution_count": 84,
   "metadata": {},
   "outputs": [
    {
     "data": {
      "text/plain": [
       "(199, 1)"
      ]
     },
     "execution_count": 84,
     "metadata": {},
     "output_type": "execute_result"
    }
   ],
   "source": [
    "df_output.shape"
   ]
  },
  {
   "cell_type": "code",
   "execution_count": 85,
   "metadata": {},
   "outputs": [],
   "source": [
    "df_output.to_csv('../output/project_recommendation_table.csv',index = True)"
   ]
  },
  {
   "cell_type": "code",
   "execution_count": 86,
   "metadata": {},
   "outputs": [
    {
     "data": {
      "text/html": [
       "<div>\n",
       "<style scoped>\n",
       "    .dataframe tbody tr th:only-of-type {\n",
       "        vertical-align: middle;\n",
       "    }\n",
       "\n",
       "    .dataframe tbody tr th {\n",
       "        vertical-align: top;\n",
       "    }\n",
       "\n",
       "    .dataframe thead th {\n",
       "        text-align: right;\n",
       "    }\n",
       "</style>\n",
       "<table border=\"1\" class=\"dataframe\">\n",
       "  <thead>\n",
       "    <tr style=\"text-align: right;\">\n",
       "      <th></th>\n",
       "      <th>ID</th>\n",
       "      <th>recommendedProjects</th>\n",
       "    </tr>\n",
       "  </thead>\n",
       "  <tbody>\n",
       "    <tr>\n",
       "      <th>0</th>\n",
       "      <td>12056</td>\n",
       "      <td>178|5|391|196|314|103|382|483|469|222|178|5|39...</td>\n",
       "    </tr>\n",
       "    <tr>\n",
       "      <th>1</th>\n",
       "      <td>12057</td>\n",
       "      <td>178|5|391|196|314|103|382|483|469|222|178|5|39...</td>\n",
       "    </tr>\n",
       "    <tr>\n",
       "      <th>2</th>\n",
       "      <td>12058</td>\n",
       "      <td>178|5|391|196|314|103|382|483|469|222|178|5|39...</td>\n",
       "    </tr>\n",
       "    <tr>\n",
       "      <th>3</th>\n",
       "      <td>12059</td>\n",
       "      <td>178|5|391|196|314|103|382|483|469|222|178|5|39...</td>\n",
       "    </tr>\n",
       "    <tr>\n",
       "      <th>4</th>\n",
       "      <td>12060</td>\n",
       "      <td>465|178|391|196|314|103|382|483|469|222|465|17...</td>\n",
       "    </tr>\n",
       "  </tbody>\n",
       "</table>\n",
       "</div>"
      ],
      "text/plain": [
       "      ID                                recommendedProjects\n",
       "0  12056  178|5|391|196|314|103|382|483|469|222|178|5|39...\n",
       "1  12057  178|5|391|196|314|103|382|483|469|222|178|5|39...\n",
       "2  12058  178|5|391|196|314|103|382|483|469|222|178|5|39...\n",
       "3  12059  178|5|391|196|314|103|382|483|469|222|178|5|39...\n",
       "4  12060  465|178|391|196|314|103|382|483|469|222|465|17..."
      ]
     },
     "execution_count": 86,
     "metadata": {},
     "output_type": "execute_result"
    }
   ],
   "source": [
    "temp = pd.read_csv('../output/project_recommendation_table.csv')\n",
    "temp.head()"
   ]
  },
  {
   "cell_type": "code",
   "execution_count": 93,
   "metadata": {},
   "outputs": [],
   "source": [
    "temp.head().to_json('test.json')"
   ]
  },
  {
   "cell_type": "markdown",
   "metadata": {},
   "source": [
    "# user recommend"
   ]
  },
  {
   "cell_type": "code",
   "execution_count": 89,
   "metadata": {},
   "outputs": [],
   "source": [
    "# load the user similarity matrix\n",
    "userSimilarityMatrix = pd.read_csv('employee_similarity_matrix.csv', index_col = 'ID')"
   ]
  },
  {
   "cell_type": "code",
   "execution_count": 91,
   "metadata": {},
   "outputs": [],
   "source": [
    "\"\"\"\n",
    "This function returns a list of employe ID (string) with highest similarity to lowest\n",
    "\"\"\"\n",
    "def findTopKSimilarEmployee(eId, topK = 'all', eSimilarityMatrixFile='employee_similarity_matrix.csv'):\n",
    "    import pandas as pd\n",
    "    import numpy as np\n",
    "    matrix = pd.read_csv(eSimilarityMatrixFile, index_col = 'ID')\n",
    "    matrix.index = matrix.index.map(str)\n",
    "    # retrieve ranked employ based on e-e similarity\n",
    "    sim = matrix.loc[str(eId),:]\n",
    "    sortedSim = sim.sort_values(ascending=False)\n",
    "    # return a list of employee id from high to low \n",
    "    eIdSorted = sortedSim.iloc[1:].index.tolist()\n",
    "    if(topK == 'all'):\n",
    "        return eIdSorted\n",
    "    else:\n",
    "        return eIdSorted[0:topK]"
   ]
  },
  {
   "cell_type": "code",
   "execution_count": 92,
   "metadata": {},
   "outputs": [
    {
     "name": "stdout",
     "output_type": "stream",
     "text": [
      "The top 5 similar employee for employee 5 is: 12149|12203|12147|12217|12224\n"
     ]
    }
   ],
   "source": [
    "print(\"The top 5 similar employee for employee %d is: %s\"%(5, '|'.join(findTopKSimilarEmployee('12070',5))))"
   ]
  },
  {
   "cell_type": "code",
   "execution_count": null,
   "metadata": {},
   "outputs": [],
   "source": []
  }
 ],
 "metadata": {
  "kernelspec": {
   "display_name": "Python 3",
   "language": "python",
   "name": "python3"
  },
  "language_info": {
   "codemirror_mode": {
    "name": "ipython",
    "version": 3
   },
   "file_extension": ".py",
   "mimetype": "text/x-python",
   "name": "python",
   "nbconvert_exporter": "python",
   "pygments_lexer": "ipython3",
   "version": "3.7.3"
  }
 },
 "nbformat": 4,
 "nbformat_minor": 2
}
