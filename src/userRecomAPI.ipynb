{
 "cells": [
  {
   "cell_type": "code",
   "execution_count": 5,
   "metadata": {},
   "outputs": [],
   "source": [
    "\"\"\"\n",
    "This function returns a list of employe ID (string) with highest similarity to lowest\n",
    "\"\"\"\n",
    "import pandas as pd\n",
    "import numpy as np\n",
    "def findTopKSimilarEmployee(eId, topK = 5, eSimilarityMatrixFile='employee_similarity_matrix.csv'):\n",
    "    matrix = pd.read_csv(eSimilarityMatrixFile, index_col = 'ID')\n",
    "    matrix.index = matrix.index.map(str)\n",
    "    # retrieve ranked employ based on e-e similarity\n",
    "    sim = matrix.loc[str(eId),:]\n",
    "    sortedSim = sim.sort_values(ascending=False)\n",
    "    # return a list of employee id from high to low \n",
    "    eIdSorted = sortedSim.iloc[1:].index.tolist()\n",
    "    if(topK == 'all'):\n",
    "        return eIdSorted\n",
    "    else:\n",
    "        return eIdSorted[0:topK]"
   ]
  },
  {
   "cell_type": "code",
   "execution_count": 6,
   "metadata": {},
   "outputs": [
    {
     "name": "stdout",
     "output_type": "stream",
     "text": [
      "The top 5 similar employee for employee 5 is: 12149|12203|12147|12217|12224\n"
     ]
    }
   ],
   "source": [
    "print(\"The top 5 similar employee for employee %d is: %s\"%(5, '|'.join(findTopKSimilarEmployee('12070',5))))"
   ]
  },
  {
   "cell_type": "code",
   "execution_count": null,
   "metadata": {},
   "outputs": [],
   "source": []
  }
 ],
 "metadata": {
  "kernelspec": {
   "display_name": "Python 3",
   "language": "python",
   "name": "python3"
  },
  "language_info": {
   "codemirror_mode": {
    "name": "ipython",
    "version": 3
   },
   "file_extension": ".py",
   "mimetype": "text/x-python",
   "name": "python",
   "nbconvert_exporter": "python",
   "pygments_lexer": "ipython3",
   "version": "3.7.3"
  }
 },
 "nbformat": 4,
 "nbformat_minor": 2
}
