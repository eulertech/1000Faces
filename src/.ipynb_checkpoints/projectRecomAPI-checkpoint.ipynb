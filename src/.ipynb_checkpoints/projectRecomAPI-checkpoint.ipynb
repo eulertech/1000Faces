{
 "cells": [
  {
   "cell_type": "code",
   "execution_count": null,
   "metadata": {},
   "outputs": [],
   "source": [
    "\"\"\"\n",
    "This function returns a list of employe ID (string) with highest similarity to lowest\n",
    "\"\"\"\n",
    "import pandas as pd\n",
    "import numpy as np\n",
    "def findTopKSimilarProject(eId, topK = 'all', eSimilarityMatrixFile='project_similarity_matrix.csv'):\n",
    "    matrix = pd.read_csv(eSimilarityMatrixFile, index_col = 'pID')\n",
    "    matrix.index = matrix.index.map(str)\n",
    "    # retrieve ranked employ based on e-e similarity\n",
    "    sim = matrix.loc[str(eId),:]\n",
    "    sortedSim = sim.sort_values(ascending=False)\n",
    "    # return a list of employee id from high to low \n",
    "    pIdSorted = sortedSim.iloc[1:].index.tolist()\n",
    "    if(topK == 'all'):\n",
    "        return pIdSorted\n",
    "    else:\n",
    "        return pIdSorted[0:topK]"
   ]
  },
  {
   "cell_type": "code",
   "execution_count": null,
   "metadata": {},
   "outputs": [],
   "source": [
    "print(\"The top 5 similar projects for project %d is: %s\"%(5, '|'.join(findTopKSimilarProject('2',5))))"
   ]
  }
 ],
 "metadata": {
  "kernelspec": {
   "display_name": "Python 3",
   "language": "python",
   "name": "python3"
  },
  "language_info": {
   "codemirror_mode": {
    "name": "ipython",
    "version": 3
   },
   "file_extension": ".py",
   "mimetype": "text/x-python",
   "name": "python",
   "nbconvert_exporter": "python",
   "pygments_lexer": "ipython3",
   "version": "3.7.3"
  }
 },
 "nbformat": 4,
 "nbformat_minor": 2
}
