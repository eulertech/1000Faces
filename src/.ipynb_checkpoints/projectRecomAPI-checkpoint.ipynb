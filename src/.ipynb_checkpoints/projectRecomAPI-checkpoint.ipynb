{
 "cells": [
  {
   "cell_type": "code",
   "execution_count": 5,
   "metadata": {},
   "outputs": [],
   "source": [
    "\"\"\"\n",
    "This function returns a list of employe ID (string) with highest similarity to lowest\n",
    "\"\"\"\n",
    "import pandas as pd\n",
    "import numpy as np\n",
    "def findTopKSimilarProject(pId, topK = 5, pSimilarityMatrixFile='project_similarity_matrix.csv'):\n",
    "    matrix = pd.read_csv(pSimilarityMatrixFile, index_col = 'pID')\n",
    "    matrix.index = matrix.index.map(str)\n",
    "    # retrieve ranked employ based on e-e similarity\n",
    "    sim = matrix.loc[str(pId),:]\n",
    "    sortedSim = sim.sort_values(ascending=False)\n",
    "    # return a list of employee id from high to low \n",
    "    pIdSorted = sortedSim.iloc[1:].index.tolist()\n",
    "    if(topK == 'all'):\n",
    "        return pIdSorted\n",
    "    else:\n",
    "        return pIdSorted[0:topK]"
   ]
  },
  {
   "cell_type": "code",
   "execution_count": 6,
   "metadata": {},
   "outputs": [
    {
     "name": "stdout",
     "output_type": "stream",
     "text": [
      "The top 5 similar projects for project 5 is: 95|9|509|361|48\n"
     ]
    }
   ],
   "source": [
    "# print(\"The top 5 similar projects for project %d is: %s\"%(5, '|'.join(findTopKSimilarProject('2',5))))"
   ]
  },
  {
   "cell_type": "code",
   "execution_count": 18,
   "metadata": {},
   "outputs": [],
   "source": [
    "def findTopKProjectsPerUser(eId, topK=5, employeTable = '../data/employee_M25.txt'):\n",
    "    matrix = pd.read_csv(employeTable, sep = '|',index_col = 'ID')\n",
    "    matrix.index = matrix.index.map(str)\n",
    "    projectList = matrix.loc[str(eId)]['PastProjectsID'].split(';')\n",
    "    result = []\n",
    "    for project in projectList:\n",
    "        result = result + findTopKSimilarProject('2',3)\n",
    "    \n",
    "    if(topK == 'all'):\n",
    "        return result\n",
    "    else:\n",
    "        return result[0:topK]"
   ]
  },
  {
   "cell_type": "code",
   "execution_count": 19,
   "metadata": {},
   "outputs": [
    {
     "data": {
      "text/plain": [
       "['95', '9', '509', '95', '9']"
      ]
     },
     "execution_count": 19,
     "metadata": {},
     "output_type": "execute_result"
    }
   ],
   "source": [
    "#findTopKProjectsPerUser('12126')"
   ]
  },
  {
   "cell_type": "code",
   "execution_count": null,
   "metadata": {},
   "outputs": [],
   "source": []
  }
 ],
 "metadata": {
  "kernelspec": {
   "display_name": "Python 3",
   "language": "python",
   "name": "python3"
  },
  "language_info": {
   "codemirror_mode": {
    "name": "ipython",
    "version": 3
   },
   "file_extension": ".py",
   "mimetype": "text/x-python",
   "name": "python",
   "nbconvert_exporter": "python",
   "pygments_lexer": "ipython3",
   "version": "3.7.3"
  }
 },
 "nbformat": 4,
 "nbformat_minor": 2
}
